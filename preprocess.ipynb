{
 "cells": [
  {
   "cell_type": "code",
   "execution_count": 1,
   "id": "e1ae911a-d5c2-4f03-a704-03c45e590e3d",
   "metadata": {},
   "outputs": [
    {
     "data": {
      "application/vnd.jupyter.widget-view+json": {
       "model_id": "126f72a2e76a425899618682c5e686f6",
       "version_major": 2,
       "version_minor": 0
      },
      "text/plain": [
       "  0%|          | 0/1689188 [00:00<?, ?it/s]"
      ]
     },
     "metadata": {},
     "output_type": "display_data"
    }
   ],
   "source": [
    "from tqdm.auto import tqdm\n",
    "import re\n",
    "import json\n",
    "from nltk.corpus import stopwords\n",
    "stopwords = stopwords.words('english') \n",
    "data_set_json = \"data/reviews_Electronics_5.json\"\n",
    "corpus_file=\"data/corpus.json\"\n",
    "with open(data_set_json) as f:\n",
    "    data = []\n",
    "    products = f.readlines()\n",
    "    for product in tqdm(products):\n",
    "        data.append(eval(product))"
   ]
  },
  {
   "cell_type": "code",
   "execution_count": 2,
   "id": "5250ff48-d7c2-4ad5-97a5-dfc3323eb977",
   "metadata": {},
   "outputs": [],
   "source": [
    "corpus=[]"
   ]
  },
  {
   "cell_type": "code",
   "execution_count": 3,
   "id": "db2b36b7-c6f8-4ae3-b32b-94ca5798342b",
   "metadata": {},
   "outputs": [],
   "source": [
    "def remove_emoji(string):\n",
    "    emoji_pattern = re.compile(\"[\"\n",
    "                           u\"\\U0001F600-\\U0001F64F\" # emoticons\n",
    "                           u\"\\U0001F300-\\U0001F5FF\" # symbols & pictographs\n",
    "                           u\"\\U0001F680-\\U0001F6FF\" # transport & map symbols\n",
    "                           u\"\\U0001F1E0-\\U0001F1FF\" # flags (iOS)\n",
    "                           u\"\\U00002702-\\U000027B0\"\n",
    "                           u\"\\U000024C2-\\U0001F251\"\n",
    "                           \"]+\", flags=re.UNICODE)\n",
    "    return emoji_pattern.sub(r'', string)"
   ]
  },
  {
   "cell_type": "code",
   "execution_count": 7,
   "id": "46738de0-8008-48af-9785-b53ab331b413",
   "metadata": {},
   "outputs": [],
   "source": [
    "def clean_text(x):\n",
    "  x = remove_emoji(x)\n",
    "  x = x.split(\" \")\n",
    "  x = [i for i in x if i not in stopwords]\n",
    "  x = \" \".join(x)\n",
    "  # remove user IDs\n",
    "  x = re.sub(\"@[A-Za-z0-9]+\",\"\", x)\n",
    "  # remove IP addresses\n",
    "  x = re.sub(\"\\d{1,3}\\.\\d{1,3}\\.\\d{1,3}\\.\\d{1,3}\",'',str(x))\n",
    "  # lower uppercase letters\n",
    "  x = str(x).lower()\n",
    "  #remove http links in the text\n",
    "  x= re.sub(\"(http://.*?\\s)|(http://.*)\",'',str(x))\n",
    "  #remove all punctuation except for apostrophe (')\n",
    "  x= re.sub('[!\"#$%&\\()*+,-/:;<=>?@[\\\\]^_`{|}~]','',str(x))\n",
    "  return x"
   ]
  },
  {
   "cell_type": "code",
   "execution_count": 8,
   "id": "ffb38e7f-e1c4-48ee-b543-79fac19a2efe",
   "metadata": {},
   "outputs": [
    {
     "data": {
      "application/vnd.jupyter.widget-view+json": {
       "model_id": "5d5bd333abde4bdfa91b5d5ed19b6b5d",
       "version_major": 2,
       "version_minor": 0
      },
      "text/plain": [
       "  0%|          | 0/1689188 [00:00<?, ?it/s]"
      ]
     },
     "metadata": {},
     "output_type": "display_data"
    }
   ],
   "source": [
    "for product in tqdm(data):\n",
    "    sentences = [clean_text(i) for i in product[\"reviewText\"].split(\".\")]\n",
    "    sentences.extend([clean_text(i) for i in product[\"summary\"].split(\".\")])\n",
    "    sentences = [i for i in sentences if len(i)!=0]\n",
    "    corpus.extend(sentences)"
   ]
  },
  {
   "cell_type": "code",
   "execution_count": 18,
   "id": "6158b5a6-8bb4-4f63-8219-11b210db2aaa",
   "metadata": {},
   "outputs": [],
   "source": [
    "with open(corpus_file,\"w\") as f:\n",
    "    json.dump(corpus,f,indent=4)"
   ]
  }
 ],
 "metadata": {
  "kernelspec": {
   "display_name": "Python 3",
   "language": "python",
   "name": "python3"
  },
  "language_info": {
   "codemirror_mode": {
    "name": "ipython",
    "version": 3
   },
   "file_extension": ".py",
   "mimetype": "text/x-python",
   "name": "python",
   "nbconvert_exporter": "python",
   "pygments_lexer": "ipython3",
   "version": "3.7.11"
  }
 },
 "nbformat": 4,
 "nbformat_minor": 5
}
