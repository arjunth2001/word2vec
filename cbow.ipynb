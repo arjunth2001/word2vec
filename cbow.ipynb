{
 "cells": [
  {
   "cell_type": "code",
   "execution_count": 3,
   "source": [
    "import json\n",
    "import pandas as pd\n",
    "import numpy as np\n",
    "from tqdm.auto import tqdm\n",
    "import json\n",
    "from torch.utils.data import Dataset, DataLoader\n",
    "import gc\n",
    "import itertools\n",
    "import sys\n",
    "MIN_COUNT=5\n",
    "WINDOW_SIZE=2\n",
    "LR=0.0001\n",
    "EMBEDDING_DIM = 200\n",
    "BATCH_SIZE = 3000\n",
    "NUM_EPOCH = 50\n",
    "MAKE_DATASET=True\n",
    "SUB_SAMPLING=False\n",
    "corpus_file=\"data/corpus.json\""
   ],
   "outputs": [],
   "metadata": {}
  },
  {
   "cell_type": "code",
   "execution_count": 4,
   "source": [
    "if MAKE_DATASET==True:\n",
    "    print(\"Starting to make Dataset..Loading Corpus..\")\n",
    "    with open(corpus_file) as f:\n",
    "        corpus = json.load(f)\n",
    "    words = set()\n",
    "    print(\"Constructing Vocab..\")\n",
    "    for sentence in tqdm(corpus):\n",
    "        cur_words = sentence.split(\" \")\n",
    "        for word in cur_words:\n",
    "            words.add(word)\n",
    "    words =list(words)\n",
    "    words =[i for i in words if len(i)!=0]\n",
    "    count_word ={word:0 for word in words}\n",
    "    for sentence in tqdm(corpus):\n",
    "        cur_words = sentence.split(\" \")\n",
    "        for word in cur_words:\n",
    "            try:\n",
    "                count_word[word]+=1\n",
    "            except:\n",
    "                pass\n",
    "    removed_words = []\n",
    "    sorted_words = [pair[0] for pair in sorted(count_word.items(), key=lambda item: item[1],reverse=True)]\n",
    "    temp=[]\n",
    "    for word in sorted_words:\n",
    "        if count_word[word]>=MIN_COUNT:\n",
    "            temp.append(word)\n",
    "        else:\n",
    "            removed_words.append(word)\n",
    "    words = temp\n",
    "    del sorted_words\n",
    "    del temp\n",
    "    removed_words=set(removed_words)\n",
    "    total = len(list(count_word.keys()))\n",
    "    prob_word ={k:(1-(v/total)) for k,v in count_word.items()}\n",
    "    def is_successful(success_prob):\n",
    "        result = np.random.uniform()\n",
    "        return result < success_prob\n",
    "    cbow_corpus=[]\n",
    "    print(\"Creating CBOW Corpus...\")\n",
    "    for sentence in tqdm(corpus):\n",
    "        cur_words = sentence.split(\" \")\n",
    "        data =[]\n",
    "        for word in cur_words:\n",
    "            if word in removed_words:\n",
    "                continue\n",
    "            if len(word)==0 or word == \" \":\n",
    "                continue\n",
    "            if is_successful(prob_word[word])==True and SUB_SAMPLING==True:\n",
    "                data.append(word)\n",
    "            else:\n",
    "                data.append(word)         \n",
    "        if len(data)==0:\n",
    "            continue\n",
    "        cbow_corpus.append(data)\n",
    "    with open(\"data/cbow_words.json\",\"w\") as f:\n",
    "        json.dump(words,f,indent=4)\n",
    "    del corpus\n",
    "    del count_word\n",
    "    del removed_words\n",
    "    print(\"DONE\")\n",
    "else:\n",
    "    print(\"Loading Vocab\")\n",
    "    with open(\"data/cbow_words.json\") as f:\n",
    "        words = json.load(f)\n",
    "    print(\"Done\")"
   ],
   "outputs": [
    {
     "output_type": "stream",
     "name": "stdout",
     "text": [
      "Starting to make Dataset..Loading Corpus..\n",
      "Constructing Vocab..\n"
     ]
    },
    {
     "output_type": "display_data",
     "data": {
      "application/vnd.jupyter.widget-view+json": {
       "model_id": "fa4d7e99f49a43bb8db94a34caaa60b9",
       "version_major": 2,
       "version_minor": 0
      },
      "text/plain": [
       "  0%|          | 0/14432994 [00:00<?, ?it/s]"
      ]
     },
     "metadata": {}
    },
    {
     "output_type": "display_data",
     "data": {
      "application/vnd.jupyter.widget-view+json": {
       "model_id": "98ea570601134140af00b16cb8f3ce95",
       "version_major": 2,
       "version_minor": 0
      },
      "text/plain": [
       "  0%|          | 0/14432994 [00:00<?, ?it/s]"
      ]
     },
     "metadata": {}
    },
    {
     "output_type": "stream",
     "name": "stdout",
     "text": [
      "Creating CBOW Corpus...\n"
     ]
    },
    {
     "output_type": "display_data",
     "data": {
      "application/vnd.jupyter.widget-view+json": {
       "model_id": "1a751a8e4bcd4988a3d62ad10f0855ef",
       "version_major": 2,
       "version_minor": 0
      },
      "text/plain": [
       "  0%|          | 0/14432994 [00:00<?, ?it/s]"
      ]
     },
     "metadata": {}
    },
    {
     "output_type": "stream",
     "name": "stdout",
     "text": [
      "DONE\n"
     ]
    }
   ],
   "metadata": {}
  },
  {
   "cell_type": "code",
   "execution_count": 5,
   "source": [
    "word2Ind = {w:idx for idx, w in enumerate(words)}"
   ],
   "outputs": [],
   "metadata": {}
  },
  {
   "cell_type": "code",
   "execution_count": 6,
   "source": [
    "class CBOWDataSet(Dataset):\n",
    "    def __init__(self,vocab_size,window_size=2,make_corpus=False):\n",
    "        self.context_n_centre=list()\n",
    "        if make_corpus==True:\n",
    "            global cbow_corpus\n",
    "            global word2Ind\n",
    "            #with open(\"./data/cbow_dataset.txt\",\"w\") as f:\n",
    "            for sentence in tqdm(cbow_corpus):\n",
    "                t = len(sentence)\n",
    "                for j in range(t):\n",
    "                    centre = sentence[j]\n",
    "                    context=[]\n",
    "                    if(j>=window_size and j+window_size<t):\n",
    "                        context=sentence[j-window_size:j]+sentence[j+1:j+window_size+1]\n",
    "                    elif (j<window_size):\n",
    "                        context=sentence[0:j]+sentence[j+1:j+window_size+1]           \n",
    "                    elif(j+window_size>=t):\n",
    "                        context=sentence[j-window_size:j]+sentence[j+1:]\n",
    "                    if len(context)==0:\n",
    "                        continue\n",
    "                    context = [word2Ind[word]for word in context]\n",
    "                    total = len(context)\n",
    "                    if len(context)!=window_size*2:\n",
    "                        while len(context)< window_size*2:\n",
    "                            context.append(vocab_size)\n",
    "                    self.context_n_centre.append((context,word2Ind[centre],total))\n",
    "                    f.write(json.dumps((context,word2Ind[centre],total))+\"\\n\")\n",
    "        else:\n",
    "            print(\"Getting lines..\")\n",
    "            with open(\"./data/cbow_dataset.txt\") as f:\n",
    "                total = sum(1 for line in f)\n",
    "            print(\"Loading Dataset..\")\n",
    "            with open(\"./data/cbow_dataset.txt\") as f:\n",
    "                for line in tqdm(f,total=total):\n",
    "                    self.context_n_centre.append(eval(line.replace(\"\\n\",\"\")))\n",
    "            print(\"Done\")\n",
    "    def __getitem__(self, idx):\n",
    "        context,centre,total = self.context_n_centre[idx]\n",
    "        return (torch.tensor(context),centre,total)\n",
    "\n",
    "    def __len__(self):\n",
    "        return len(self.context_n_centre)"
   ],
   "outputs": [],
   "metadata": {}
  },
  {
   "cell_type": "code",
   "execution_count": 7,
   "source": [
    "import torch\n",
    "import numpy as np\n",
    "class CBOW(torch.nn.Module):\n",
    "    def __init__(self, vocab_size, embedding_dim):\n",
    "        super(CBOW, self).__init__()\n",
    "        self.embeddings = torch.nn.Embedding(vocab_size+1, embedding_dim, padding_idx=vocab_size)\n",
    "        self.linear = torch.nn.Linear(embedding_dim, vocab_size+1)\n",
    "\n",
    "    def forward(self, inputs,total):\n",
    "        x = self.embeddings(inputs)\n",
    "        embeds = torch.sum(x, dim=1)/total.view(total.shape[0],1)\n",
    "        out = self.linear(embeds)\n",
    "        log_probs = torch.nn.functional.log_softmax(out,dim=1)\n",
    "        return log_probs"
   ],
   "outputs": [],
   "metadata": {}
  },
  {
   "cell_type": "code",
   "execution_count": 8,
   "source": [
    "data = CBOWDataSet(len(words),WINDOW_SIZE,MAKE_DATASET)\n",
    "model = CBOW(len(words), EMBEDDING_DIM)\n",
    "optimizer = torch.optim.Adam(model.parameters(), LR)\n",
    "loss_function = torch.nn.NLLLoss()\n",
    "losses = []\n",
    "data_loader = DataLoader(data, batch_size=BATCH_SIZE)"
   ],
   "outputs": [
    {
     "output_type": "display_data",
     "data": {
      "application/vnd.jupyter.widget-view+json": {
       "model_id": "2a7ca0a8b49641519739c7a656ea6558",
       "version_major": 2,
       "version_minor": 0
      },
      "text/plain": [
       "  0%|          | 0/512 [00:00<?, ?it/s]"
      ]
     },
     "metadata": {}
    }
   ],
   "metadata": {}
  },
  {
   "cell_type": "code",
   "execution_count": 9,
   "source": [
    "if MAKE_DATASET==True:\n",
    "    del cbow_corpus"
   ],
   "outputs": [],
   "metadata": {}
  },
  {
   "cell_type": "code",
   "execution_count": 10,
   "source": [
    "len(data.context_n_centre)"
   ],
   "outputs": [
    {
     "output_type": "execute_result",
     "data": {
      "text/plain": [
       "4021"
      ]
     },
     "metadata": {},
     "execution_count": 10
    }
   ],
   "metadata": {}
  },
  {
   "cell_type": "code",
   "execution_count": 11,
   "source": [
    "data.context_n_centre[:5]"
   ],
   "outputs": [
    {
     "output_type": "execute_result",
     "data": {
      "text/plain": [
       "[([51, 404, 149308, 149308], 341, 2),\n",
       " ([341, 404, 1808, 149308], 51, 3),\n",
       " ([341, 51, 1808, 38415], 404, 3),\n",
       " ([51, 404, 38415, 1181], 1808, 3),\n",
       " ([404, 1808, 1181, 21863], 38415, 3)]"
      ]
     },
     "metadata": {},
     "execution_count": 11
    }
   ],
   "metadata": {}
  },
  {
   "cell_type": "code",
   "execution_count": 12,
   "source": [
    "if torch.cuda.is_available():\n",
    "    device = torch.device('cuda')\n",
    "else:\n",
    "    device = torch.device('cpu')\n",
    "print('device: ' + str(device))\n",
    "model = model.to(device)"
   ],
   "outputs": [
    {
     "output_type": "stream",
     "name": "stdout",
     "text": [
      "device: cuda\n"
     ]
    }
   ],
   "metadata": {}
  },
  {
   "cell_type": "code",
   "execution_count": 13,
   "source": [
    "model.train()\n",
    "for epoch in range(NUM_EPOCH):\n",
    "    total_loss = 0\n",
    "    print(f\"Epoch:{epoch}\")\n",
    "    for batch in tqdm(data_loader):\n",
    "        context,centre,total = batch\n",
    "        context = context.to(device)\n",
    "        centre = centre.to(device)\n",
    "        total = total.to(device)\n",
    "        log_probs = model(context,total)\n",
    "        loss = loss_function(log_probs, centre)\n",
    "        loss.backward()\n",
    "        optimizer.step()\n",
    "        model.zero_grad()\n",
    "        total_loss += loss.detach().item()\n",
    "    torch.save(model,'model50.pt')\n",
    "    print('total_loss:',total_loss)"
   ],
   "outputs": [
    {
     "output_type": "stream",
     "name": "stdout",
     "text": [
      "Epoch:0\n"
     ]
    },
    {
     "output_type": "display_data",
     "data": {
      "application/vnd.jupyter.widget-view+json": {
       "model_id": "bfef52ebbbdb402ba5d17f0660be86c8",
       "version_major": 2,
       "version_minor": 0
      },
      "text/plain": [
       "  0%|          | 0/2 [00:00<?, ?it/s]"
      ]
     },
     "metadata": {}
    },
    {
     "output_type": "stream",
     "name": "stdout",
     "text": [
      "total_loss: 23.99436664581299\n",
      "Epoch:1\n"
     ]
    },
    {
     "output_type": "display_data",
     "data": {
      "application/vnd.jupyter.widget-view+json": {
       "model_id": "03a4bc72dde94c778e19044872d06ce1",
       "version_major": 2,
       "version_minor": 0
      },
      "text/plain": [
       "  0%|          | 0/2 [00:00<?, ?it/s]"
      ]
     },
     "metadata": {}
    },
    {
     "output_type": "stream",
     "name": "stdout",
     "text": [
      "total_loss: 23.968806266784668\n"
     ]
    }
   ],
   "metadata": {}
  },
  {
   "cell_type": "code",
   "execution_count": 15,
   "source": [
    "model.eval()\n",
    "embeddings = model.embeddings\n",
    "tokens = torch.tensor([word2Ind[w] for w in words]).to(device)\n",
    "embeddings = embeddings(tokens)"
   ],
   "outputs": [],
   "metadata": {}
  },
  {
   "cell_type": "code",
   "execution_count": 17,
   "source": [
    "model ={}\n",
    "for i, word in enumerate(words):\n",
    "    model[word]=embeddings[i].detach().cpu().numpy().tolist()"
   ],
   "outputs": [],
   "metadata": {}
  },
  {
   "cell_type": "code",
   "execution_count": 19,
   "source": [
    "with open(\"./data/cbow_model.json\",\"w\") as f:\n",
    "    json.dump(model,f,indent=4)"
   ],
   "outputs": [],
   "metadata": {}
  }
 ],
 "metadata": {
  "kernelspec": {
   "display_name": "Python 3",
   "language": "python",
   "name": "python3"
  },
  "language_info": {
   "codemirror_mode": {
    "name": "ipython",
    "version": 3
   },
   "file_extension": ".py",
   "mimetype": "text/x-python",
   "name": "python",
   "nbconvert_exporter": "python",
   "pygments_lexer": "ipython3",
   "version": "3.7.0"
  }
 },
 "nbformat": 4,
 "nbformat_minor": 5
}