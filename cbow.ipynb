{
 "cells": [
  {
   "cell_type": "code",
   "execution_count": 15,
   "id": "336af58b-ceb3-417e-8c93-077c35786cab",
   "metadata": {},
   "outputs": [],
   "source": [
    "import json\n",
    "import pandas as pd\n",
    "import numpy as np\n",
    "from tqdm.auto import tqdm\n",
    "import json\n",
    "from torch.utils.data import Dataset, DataLoader\n",
    "import gc\n",
    "import itertools\n",
    "import sys\n",
    "MIN_COUNT=5\n",
    "WINDOW_SIZE=2\n",
    "LR=0.001\n",
    "EMBEDDING_DIM = 200\n",
    "BATCH_SIZE = 10000\n",
    "NUM_EPOCH = 2\n",
    "MAKE_DATASET=False\n",
    "corpus_file=\"data/corpus.json\""
   ]
  },
  {
   "cell_type": "code",
   "execution_count": 2,
   "id": "9cf69c1e-10a7-496c-9dc2-ceb4e0e20679",
   "metadata": {},
   "outputs": [
    {
     "name": "stdout",
     "output_type": "stream",
     "text": [
      "Loading Vocab\n",
      "Done\n"
     ]
    }
   ],
   "source": [
    "if MAKE_DATASET==True:\n",
    "    print(\"Starting to make Dataset..Loading Corpus..\")\n",
    "    with open(corpus_file) as f:\n",
    "        corpus = json.load(f)\n",
    "    words = set()\n",
    "    print(\"Constructing Vocab..\")\n",
    "    for sentence in tqdm(corpus):\n",
    "        cur_words = sentence.split(\" \")\n",
    "        for word in cur_words:\n",
    "            words.add(word)\n",
    "    words =list(words)\n",
    "    words =[i for i in words if len(i)!=0]\n",
    "    count_word ={word:0 for word in words}\n",
    "    for sentence in tqdm(corpus):\n",
    "        cur_words = sentence.split(\" \")\n",
    "        for word in cur_words:\n",
    "            try:\n",
    "                count_word[word]+=1\n",
    "            except:\n",
    "                pass\n",
    "    removed_words = []\n",
    "    sorted_words = [pair[0] for pair in sorted(count_word.items(), key=lambda item: item[1],reverse=True)]\n",
    "    temp=[]\n",
    "    for word in sorted_words:\n",
    "        if count_word[word]>=MIN_COUNT:\n",
    "            temp.append(word)\n",
    "        else:\n",
    "            removed_words.append(word)\n",
    "    words = temp\n",
    "    del sorted_words\n",
    "    del temp\n",
    "    removed_words=set(removed_words)\n",
    "    total = len(list(count_word.keys()))\n",
    "    prob_word ={k:(1-(v/total)) for k,v in count_word.items()}\n",
    "    def is_successful(success_prob):\n",
    "        result = np.random.uniform()\n",
    "        return result < success_prob\n",
    "    cbow_corpus=[]\n",
    "    print(\"Creating CBOW Corpus...\")\n",
    "    for sentence in tqdm(corpus):\n",
    "        cur_words = sentence.split(\" \")\n",
    "        data =[]\n",
    "        for word in cur_words:\n",
    "            if word in removed_words:\n",
    "                continue\n",
    "            if len(word)==0 or word == \" \":\n",
    "                continue\n",
    "            if is_successful(prob_word[word])==True:\n",
    "                data.append(word)\n",
    "        if len(data)==0:\n",
    "            continue\n",
    "        cbow_corpus.append(data)\n",
    "    with open(\"data/cbow_words.json\",\"w\") as f:\n",
    "        json.dump(words,f,indent=4)\n",
    "    del corpus\n",
    "    del count_word\n",
    "    del removed_words\n",
    "    print(\"DONE\")\n",
    "else:\n",
    "    print(\"Loading Vocab\")\n",
    "    with open(\"data/cbow_words.json\") as f:\n",
    "        words = json.load(f)\n",
    "    print(\"Done\")"
   ]
  },
  {
   "cell_type": "code",
   "execution_count": 3,
   "id": "d63c3350-f52a-44c5-9f44-f0dbac15823f",
   "metadata": {},
   "outputs": [],
   "source": [
    "word2Ind = {w:idx for idx, w in enumerate(words)}"
   ]
  },
  {
   "cell_type": "code",
   "execution_count": 4,
   "id": "21b8f051-c8d2-40b3-bbde-1a0c469aacf9",
   "metadata": {},
   "outputs": [],
   "source": [
    "class CBOWDataSet(Dataset):\n",
    "    def __init__(self,vocab_size,window_size=2,make_corpus=False):\n",
    "        self.context_n_centre=list()\n",
    "        if make_corpus==True:\n",
    "            global cbow_corpus\n",
    "            global word2Ind\n",
    "            with open(\"./data/cbow_dataset.txt\",\"w\") as f:\n",
    "                for sentence in tqdm(cbow_corpus):\n",
    "                    t = len(sentence)\n",
    "                    for i in range(window_size,t-window_size):\n",
    "                        centre = sentence[i]\n",
    "                        context = sentence[i-window_size:i]+ sentence[i+1:i+1+window_size]\n",
    "                        if len(context)==0:\n",
    "                            continue\n",
    "                        context = [word2Ind[word]for word in context]\n",
    "                        self.context_n_centre.append((context,word2Ind[centre]))\n",
    "                        f.write(json.dumps((context,word2Ind[centre]))+\"\\n\")\n",
    "        else:\n",
    "            print(\"Getting lines..\")\n",
    "            with open(\"./data/cbow_dataset.txt\") as f:\n",
    "                total = sum(1 for line in f)\n",
    "            print(\"Loading Dataset..\")\n",
    "            with open(\"./data/cbow_dataset.txt\") as f:\n",
    "                for line in tqdm(f,total=total):\n",
    "                    self.context_n_centre.append(eval(line.replace(\"\\n\",\"\")))\n",
    "            print(\"Done\")\n",
    "    def __getitem__(self, idx):\n",
    "        context,centre = self.context_n_centre[idx]\n",
    "        return (torch.tensor(context),centre)\n",
    "\n",
    "    def __len__(self):\n",
    "        return len(self.context_n_centre)"
   ]
  },
  {
   "cell_type": "code",
   "execution_count": 5,
   "id": "c4907a33-6f53-452f-b020-19b9b3e229c3",
   "metadata": {},
   "outputs": [],
   "source": [
    "import torch\n",
    "import numpy as np\n",
    "class CBOW(torch.nn.Module):\n",
    "    def __init__(self, vocab_size, embedding_dim):\n",
    "        super(CBOW, self).__init__()\n",
    "        self.embeddings = torch.nn.Embedding(vocab_size, embedding_dim)\n",
    "        self.linear = torch.nn.Linear(embedding_dim, vocab_size)\n",
    "\n",
    "    def forward(self, inputs):\n",
    "        x = self.embeddings(inputs)\n",
    "        embeds = torch.mean(x, dim=1)\n",
    "        out = self.linear(embeds)\n",
    "        log_probs = torch.nn.functional.log_softmax(out,dim=1)\n",
    "        return log_probs"
   ]
  },
  {
   "cell_type": "code",
   "execution_count": 16,
   "id": "a2425578-980e-482e-a317-8a2ab983927a",
   "metadata": {},
   "outputs": [],
   "source": [
    "data = CBOWDataSet(len(words),WINDOW_SIZE,MAKE_DATASET)\n",
    "model = CBOW(len(words), EMBEDDING_DIM)\n",
    "optimizer = torch.optim.Adam(model.parameters(), LR)\n",
    "loss_function = torch.nn.NLLLoss()\n",
    "losses = []\n",
    "data_loader = DataLoader(data, batch_size=BATCH_SIZE)"
   ]
  },
  {
   "cell_type": "code",
   "execution_count": 17,
   "id": "8c580f7e-be77-4daa-b2b6-0fdf8d82e2ff",
   "metadata": {},
   "outputs": [],
   "source": [
    "if MAKE_DATASET==True:\n",
    "    del cbow_corpus"
   ]
  },
  {
   "cell_type": "code",
   "execution_count": 18,
   "id": "ac07a860-a51e-478d-9338-6fe62b399171",
   "metadata": {},
   "outputs": [
    {
     "data": {
      "text/plain": [
       "48242285"
      ]
     },
     "execution_count": 18,
     "metadata": {},
     "output_type": "execute_result"
    }
   ],
   "source": [
    "len(data.context_n_centre)"
   ]
  },
  {
   "cell_type": "code",
   "execution_count": 13,
   "id": "ee625333-2057-4a22-87bf-f185f4fe7bda",
   "metadata": {},
   "outputs": [
    {
     "data": {
      "text/plain": [
       "[[[341, 51, 1809, 38847], 404],\n",
       " [[51, 404, 38847, 1181], 1809],\n",
       " [[404, 1809, 1181, 21794], 38847],\n",
       " [[131, 522, 308, 1649], 596],\n",
       " [[522, 596, 1649, 330], 308]]"
      ]
     },
     "execution_count": 13,
     "metadata": {},
     "output_type": "execute_result"
    }
   ],
   "source": [
    "data.context_n_centre[:5]"
   ]
  },
  {
   "cell_type": "code",
   "execution_count": 19,
   "id": "da5f0dbe-b123-44c8-b337-7249cc7c5917",
   "metadata": {},
   "outputs": [
    {
     "name": "stdout",
     "output_type": "stream",
     "text": [
      "Epoch:0\n"
     ]
    },
    {
     "data": {
      "application/vnd.jupyter.widget-view+json": {
       "model_id": "50bd79e3e6a6456a83a9f394fbebf9be",
       "version_major": 2,
       "version_minor": 0
      },
      "text/plain": [
       "  0%|          | 0/4825 [00:00<?, ?it/s]"
      ]
     },
     "metadata": {},
     "output_type": "display_data"
    },
    {
     "ename": "KeyboardInterrupt",
     "evalue": "",
     "output_type": "error",
     "traceback": [
      "\u001b[0;31m---------------------------------------------------------------------------\u001b[0m",
      "\u001b[0;31mKeyboardInterrupt\u001b[0m                         Traceback (most recent call last)",
      "\u001b[0;32m<ipython-input-19-b6ec07cc05a8>\u001b[0m in \u001b[0;36m<module>\u001b[0;34m\u001b[0m\n\u001b[1;32m      6\u001b[0m         \u001b[0mlog_probs\u001b[0m \u001b[0;34m=\u001b[0m \u001b[0mmodel\u001b[0m\u001b[0;34m(\u001b[0m\u001b[0mcontext\u001b[0m\u001b[0;34m)\u001b[0m\u001b[0;34m\u001b[0m\u001b[0;34m\u001b[0m\u001b[0m\n\u001b[1;32m      7\u001b[0m         \u001b[0mloss\u001b[0m \u001b[0;34m=\u001b[0m \u001b[0mloss_function\u001b[0m\u001b[0;34m(\u001b[0m\u001b[0mlog_probs\u001b[0m\u001b[0;34m,\u001b[0m \u001b[0mcentre\u001b[0m\u001b[0;34m)\u001b[0m\u001b[0;34m\u001b[0m\u001b[0;34m\u001b[0m\u001b[0m\n\u001b[0;32m----> 8\u001b[0;31m         \u001b[0mloss\u001b[0m\u001b[0;34m.\u001b[0m\u001b[0mbackward\u001b[0m\u001b[0;34m(\u001b[0m\u001b[0;34m)\u001b[0m\u001b[0;34m\u001b[0m\u001b[0;34m\u001b[0m\u001b[0m\n\u001b[0m\u001b[1;32m      9\u001b[0m         \u001b[0moptimizer\u001b[0m\u001b[0;34m.\u001b[0m\u001b[0mstep\u001b[0m\u001b[0;34m(\u001b[0m\u001b[0;34m)\u001b[0m\u001b[0;34m\u001b[0m\u001b[0;34m\u001b[0m\u001b[0m\n\u001b[1;32m     10\u001b[0m         \u001b[0mmodel\u001b[0m\u001b[0;34m.\u001b[0m\u001b[0mzero_grad\u001b[0m\u001b[0;34m(\u001b[0m\u001b[0;34m)\u001b[0m\u001b[0;34m\u001b[0m\u001b[0;34m\u001b[0m\u001b[0m\n",
      "\u001b[0;32m~/opt/miniconda3/envs/word2vec/lib/python3.7/site-packages/torch/_tensor.py\u001b[0m in \u001b[0;36mbackward\u001b[0;34m(self, gradient, retain_graph, create_graph, inputs)\u001b[0m\n\u001b[1;32m    253\u001b[0m                 \u001b[0mcreate_graph\u001b[0m\u001b[0;34m=\u001b[0m\u001b[0mcreate_graph\u001b[0m\u001b[0;34m,\u001b[0m\u001b[0;34m\u001b[0m\u001b[0;34m\u001b[0m\u001b[0m\n\u001b[1;32m    254\u001b[0m                 inputs=inputs)\n\u001b[0;32m--> 255\u001b[0;31m         \u001b[0mtorch\u001b[0m\u001b[0;34m.\u001b[0m\u001b[0mautograd\u001b[0m\u001b[0;34m.\u001b[0m\u001b[0mbackward\u001b[0m\u001b[0;34m(\u001b[0m\u001b[0mself\u001b[0m\u001b[0;34m,\u001b[0m \u001b[0mgradient\u001b[0m\u001b[0;34m,\u001b[0m \u001b[0mretain_graph\u001b[0m\u001b[0;34m,\u001b[0m \u001b[0mcreate_graph\u001b[0m\u001b[0;34m,\u001b[0m \u001b[0minputs\u001b[0m\u001b[0;34m=\u001b[0m\u001b[0minputs\u001b[0m\u001b[0;34m)\u001b[0m\u001b[0;34m\u001b[0m\u001b[0;34m\u001b[0m\u001b[0m\n\u001b[0m\u001b[1;32m    256\u001b[0m \u001b[0;34m\u001b[0m\u001b[0m\n\u001b[1;32m    257\u001b[0m     \u001b[0;32mdef\u001b[0m \u001b[0mregister_hook\u001b[0m\u001b[0;34m(\u001b[0m\u001b[0mself\u001b[0m\u001b[0;34m,\u001b[0m \u001b[0mhook\u001b[0m\u001b[0;34m)\u001b[0m\u001b[0;34m:\u001b[0m\u001b[0;34m\u001b[0m\u001b[0;34m\u001b[0m\u001b[0m\n",
      "\u001b[0;32m~/opt/miniconda3/envs/word2vec/lib/python3.7/site-packages/torch/autograd/__init__.py\u001b[0m in \u001b[0;36mbackward\u001b[0;34m(tensors, grad_tensors, retain_graph, create_graph, grad_variables, inputs)\u001b[0m\n\u001b[1;32m    147\u001b[0m     Variable._execution_engine.run_backward(\n\u001b[1;32m    148\u001b[0m         \u001b[0mtensors\u001b[0m\u001b[0;34m,\u001b[0m \u001b[0mgrad_tensors_\u001b[0m\u001b[0;34m,\u001b[0m \u001b[0mretain_graph\u001b[0m\u001b[0;34m,\u001b[0m \u001b[0mcreate_graph\u001b[0m\u001b[0;34m,\u001b[0m \u001b[0minputs\u001b[0m\u001b[0;34m,\u001b[0m\u001b[0;34m\u001b[0m\u001b[0;34m\u001b[0m\u001b[0m\n\u001b[0;32m--> 149\u001b[0;31m         allow_unreachable=True, accumulate_grad=True)  # allow_unreachable flag\n\u001b[0m\u001b[1;32m    150\u001b[0m \u001b[0;34m\u001b[0m\u001b[0m\n\u001b[1;32m    151\u001b[0m \u001b[0;34m\u001b[0m\u001b[0m\n",
      "\u001b[0;31mKeyboardInterrupt\u001b[0m: "
     ]
    }
   ],
   "source": [
    "for epoch in range(NUM_EPOCH):\n",
    "    total_loss = 0\n",
    "    print(f\"Epoch:{epoch}\")\n",
    "    for batch in tqdm(data_loader):\n",
    "        context,centre = batch\n",
    "        log_probs = model(context)\n",
    "        loss = loss_function(log_probs, centre)\n",
    "        loss.backward()\n",
    "        optimizer.step()\n",
    "        model.zero_grad()\n",
    "        total_loss += loss.item()\n",
    "    print('total_loss:',total_loss)"
   ]
  },
  {
   "cell_type": "code",
   "execution_count": null,
   "id": "bf9faf64-da7f-4ff8-90dd-17c3c9689d2c",
   "metadata": {},
   "outputs": [],
   "source": [
    "embed_matrix = model.embeddings.weight.detach().cpu().numpy()"
   ]
  },
  {
   "cell_type": "code",
   "execution_count": null,
   "id": "3514b590-9152-47e8-96db-8a161dc5f470",
   "metadata": {},
   "outputs": [],
   "source": [
    "model ={}\n",
    "for word in words:\n",
    "    model[word]=embed_matrix[word2Ind[word]].tolist()"
   ]
  },
  {
   "cell_type": "code",
   "execution_count": null,
   "id": "a7a4e1e4-d06f-49f9-ac5b-747d403e4751",
   "metadata": {},
   "outputs": [],
   "source": [
    "with open(\"./data/cbow_model.json\",\"w\") as f:\n",
    "    json.dump(model,f,indent=4)"
   ]
  },
  {
   "cell_type": "code",
   "execution_count": null,
   "id": "32b9de87-94c0-4eba-85ab-6694324aaf5d",
   "metadata": {},
   "outputs": [],
   "source": []
  }
 ],
 "metadata": {
  "kernelspec": {
   "display_name": "Python 3",
   "language": "python",
   "name": "python3"
  },
  "language_info": {
   "codemirror_mode": {
    "name": "ipython",
    "version": 3
   },
   "file_extension": ".py",
   "mimetype": "text/x-python",
   "name": "python",
   "nbconvert_exporter": "python",
   "pygments_lexer": "ipython3",
   "version": "3.7.11"
  }
 },
 "nbformat": 4,
 "nbformat_minor": 5
}
