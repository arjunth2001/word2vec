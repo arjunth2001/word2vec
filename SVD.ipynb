{
 "cells": [
  {
   "cell_type": "code",
   "execution_count": 1,
   "id": "5bd1358c-a4fe-4ffd-ab40-d3f2ff25bd95",
   "metadata": {},
   "outputs": [],
   "source": [
    "import json\n",
    "import pandas as pd\n",
    "import numpy as np\n",
    "from tqdm.auto import tqdm\n",
    "import scipy as sp\n",
    "from scipy.sparse import lil_matrix\n",
    "corpus_file=\"data/corpus.json\"\n",
    "WINDOW_SIZE=2\n",
    "VOCAB_SIZE=200000\n",
    "MIN_COUNT=4\n",
    "k=200"
   ]
  },
  {
   "cell_type": "code",
   "execution_count": 2,
   "id": "454910e0-8d11-4156-a05a-cd2351cecef0",
   "metadata": {},
   "outputs": [],
   "source": [
    "with open(corpus_file) as f:\n",
    "    corpus = json.load(f)    "
   ]
  },
  {
   "cell_type": "code",
   "execution_count": 3,
   "id": "86727180-e81d-4583-936d-0273ad2f57b2",
   "metadata": {},
   "outputs": [
    {
     "data": {
      "application/vnd.jupyter.widget-view+json": {
       "model_id": "5ac6dd1ccaac4a4480b0af6e2ab745f5",
       "version_major": 2,
       "version_minor": 0
      },
      "text/plain": [
       "  0%|          | 0/14432994 [00:00<?, ?it/s]"
      ]
     },
     "metadata": {},
     "output_type": "display_data"
    }
   ],
   "source": [
    "words = set()\n",
    "for sentence in tqdm(corpus):\n",
    "    cur_words = sentence.split(\" \")\n",
    "    for word in cur_words:\n",
    "        words.add(word)"
   ]
  },
  {
   "cell_type": "code",
   "execution_count": 4,
   "id": "4f30250c-0c63-4df6-b83a-0c6099b567df",
   "metadata": {},
   "outputs": [],
   "source": [
    "words =list(words)\n",
    "words =[i for i in words if len(i)!=0]"
   ]
  },
  {
   "cell_type": "code",
   "execution_count": 5,
   "id": "4883c762-911d-4a7c-9ee2-6ddf706487b2",
   "metadata": {},
   "outputs": [],
   "source": [
    "count_word ={word:0 for word in words}"
   ]
  },
  {
   "cell_type": "code",
   "execution_count": 6,
   "id": "8fe8d3a5-2afb-4c44-b814-598e663a13ae",
   "metadata": {},
   "outputs": [
    {
     "data": {
      "application/vnd.jupyter.widget-view+json": {
       "model_id": "f2692fb3cc574b198c34d098c5355d8a",
       "version_major": 2,
       "version_minor": 0
      },
      "text/plain": [
       "  0%|          | 0/14432994 [00:00<?, ?it/s]"
      ]
     },
     "metadata": {},
     "output_type": "display_data"
    }
   ],
   "source": [
    "for sentence in tqdm(corpus):\n",
    "    cur_words = sentence.split(\" \")\n",
    "    for word in cur_words:\n",
    "        try:\n",
    "            count_word[word]+=1\n",
    "        except:\n",
    "            pass"
   ]
  },
  {
   "cell_type": "code",
   "execution_count": 7,
   "id": "3fefb712-7060-4127-8844-8099d56cd110",
   "metadata": {},
   "outputs": [],
   "source": [
    "sorted_words = [pair[0] for pair in sorted(count_word.items(), key=lambda item: item[1],reverse=True)]\n",
    "sorted_words = sorted_words[:VOCAB_SIZE]\n",
    "sorted_words = [word for word in sorted_words if count_word[word]>=MIN_COUNT]\n",
    "words = sorted_words\n",
    "del sorted_words"
   ]
  },
  {
   "cell_type": "code",
   "execution_count": 9,
   "id": "bc6a43ab-1b6b-473f-bade-36a25a9ffe8d",
   "metadata": {},
   "outputs": [
    {
     "data": {
      "text/plain": [
       "179740"
      ]
     },
     "execution_count": 9,
     "metadata": {},
     "output_type": "execute_result"
    }
   ],
   "source": [
    "len(words)"
   ]
  },
  {
   "cell_type": "code",
   "execution_count": 8,
   "id": "a048630e-e646-4e73-932b-30220c69c21f",
   "metadata": {},
   "outputs": [
    {
     "data": {
      "application/vnd.jupyter.widget-view+json": {
       "model_id": "9e6e9c317c7d42d0a31efe78c9e3afe1",
       "version_major": 2,
       "version_minor": 0
      },
      "text/plain": [
       "  0%|          | 0/14432994 [00:00<?, ?it/s]"
      ]
     },
     "metadata": {},
     "output_type": "display_data"
    }
   ],
   "source": [
    "M = lil_matrix((len(words), len(words)), dtype=np.int32)\n",
    "word2Ind = {w:idx for idx, w in enumerate(words)}\n",
    "for sentence in tqdm(corpus):\n",
    "    sentence = sentence.split(\" \")\n",
    "    for idx , word in enumerate(sentence):\n",
    "        for i in range(idx+1, min(idx+WINDOW_SIZE+1, len(sentence))):\n",
    "            try:\n",
    "                M[word2Ind[word], word2Ind[sentence[i]]] += 1\n",
    "                M[word2Ind[sentence[i]], word2Ind[word]] += 1\n",
    "            except:\n",
    "                pass"
   ]
  },
  {
   "cell_type": "code",
   "execution_count": 9,
   "id": "ead43a4a-7c0d-4ab9-bd99-ca5656769195",
   "metadata": {},
   "outputs": [],
   "source": [
    "with open(\"./data/svd_vocab.json\",\"w\") as f:\n",
    "    json.dump(words,f,indent=4)"
   ]
  },
  {
   "cell_type": "code",
   "execution_count": 10,
   "id": "ea200f99-b8a8-4a41-80ee-e8937e58a12f",
   "metadata": {},
   "outputs": [],
   "source": [
    "del corpus"
   ]
  },
  {
   "cell_type": "code",
   "execution_count": 11,
   "id": "2578ab74-0a50-45c4-87df-2b0506ce475a",
   "metadata": {},
   "outputs": [],
   "source": [
    "from numpy import array\n",
    "from scipy.sparse.linalg import svds\n",
    "from numpy import diag\n",
    "from numpy import dot"
   ]
  },
  {
   "cell_type": "code",
   "execution_count": 12,
   "id": "1a1e5d79-3965-4b40-89c9-ca65cccddf40",
   "metadata": {},
   "outputs": [],
   "source": [
    "U, s, VT = svds(M.asfptype(),k=k)"
   ]
  },
  {
   "cell_type": "code",
   "execution_count": 13,
   "id": "b65c3854-6d6b-4597-95d2-8e4b622716ee",
   "metadata": {},
   "outputs": [],
   "source": [
    "S = diag(s)"
   ]
  },
  {
   "cell_type": "code",
   "execution_count": 14,
   "id": "7cd931cc-c067-4ffe-b4be-6af4b1f733d0",
   "metadata": {},
   "outputs": [],
   "source": [
    "W=U.dot(S)\n",
    "Wt= np.linalg.norm(W, axis=1)\n",
    "W = W / Wt[:, np.newaxis]"
   ]
  },
  {
   "cell_type": "code",
   "execution_count": 15,
   "id": "bc1907a4-7d13-4de0-80c5-6d098af0a235",
   "metadata": {},
   "outputs": [],
   "source": [
    "model={}\n",
    "for word in words:\n",
    "    model[word]=W[word2Ind[word]].tolist()"
   ]
  },
  {
   "cell_type": "code",
   "execution_count": 16,
   "id": "ea8c5c9a-84c8-4fbe-a3c2-2f896f31fa0a",
   "metadata": {},
   "outputs": [],
   "source": [
    "with open(\"./data/model.json\",\"w\") as f:\n",
    "    json.dump(model,f,indent=4)"
   ]
  },
  {
   "cell_type": "code",
   "execution_count": null,
   "id": "cf9fe697-b7d1-43d6-b655-096b334b3558",
   "metadata": {},
   "outputs": [],
   "source": []
  }
 ],
 "metadata": {
  "kernelspec": {
   "display_name": "Python 3",
   "language": "python",
   "name": "python3"
  },
  "language_info": {
   "codemirror_mode": {
    "name": "ipython",
    "version": 3
   },
   "file_extension": ".py",
   "mimetype": "text/x-python",
   "name": "python",
   "nbconvert_exporter": "python",
   "pygments_lexer": "ipython3",
   "version": "3.7.11"
  }
 },
 "nbformat": 4,
 "nbformat_minor": 5
}
