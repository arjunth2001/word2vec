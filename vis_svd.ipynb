{
 "cells": [
  {
   "cell_type": "code",
   "execution_count": 18,
   "id": "51e1b2db-28f6-4c41-b30f-124534ff4803",
   "metadata": {},
   "outputs": [],
   "source": [
    "import json\n",
    "from sklearn.manifold import TSNE\n",
    "from numpy.linalg import norm\n",
    "import numpy as np\n",
    "import matplotlib.pyplot as plt"
   ]
  },
  {
   "cell_type": "code",
   "execution_count": 4,
   "id": "709948a9-fd1a-4ade-9137-57050dbff8e1",
   "metadata": {},
   "outputs": [],
   "source": [
    "with open(\"./data/svd_vocab.json\") as f:\n",
    "    vocab = json.load(f)"
   ]
  },
  {
   "cell_type": "code",
   "execution_count": 6,
   "id": "20d74df8-114c-4ca5-8f25-4fe8cdb1822b",
   "metadata": {},
   "outputs": [],
   "source": [
    "with open(\"./data/model.json\") as f:\n",
    "    model = json.load(f)"
   ]
  },
  {
   "cell_type": "code",
   "execution_count": 8,
   "id": "d9208e03-1d76-4943-b1f2-184ed4069303",
   "metadata": {},
   "outputs": [],
   "source": [
    "similarity={}\n",
    "for word in vocab:\n",
    "    a = model[\"camera\"]\n",
    "    b = model[word]\n",
    "    if word == \"camera\":\n",
    "        continue\n",
    "    similarity[word]= np.dot(a, b)/(norm(a)*norm(b))"
   ]
  },
  {
   "cell_type": "code",
   "execution_count": 9,
   "id": "c395ee2a-0ae7-4476-bebc-c200401c5443",
   "metadata": {},
   "outputs": [],
   "source": [
    "sorted_words = [k for k, v in sorted(similarity.items(), key=lambda item: item[1], reverse=True)]"
   ]
  },
  {
   "cell_type": "code",
   "execution_count": 10,
   "id": "6d28b5fc-cb29-4afe-b7ad-d95ba1598495",
   "metadata": {},
   "outputs": [
    {
     "data": {
      "text/plain": [
       "['camara',\n",
       " 'cameras',\n",
       " 'slrs',\n",
       " \"slr's\",\n",
       " 'western',\n",
       " 'goja',\n",
       " 'messenger',\n",
       " 'sans',\n",
       " 'rights',\n",
       " \"camera's\"]"
      ]
     },
     "execution_count": 10,
     "metadata": {},
     "output_type": "execute_result"
    }
   ],
   "source": [
    "sorted_words[:10]"
   ]
  },
  {
   "cell_type": "code",
   "execution_count": 14,
   "id": "d5a7badb-3125-491c-a9a7-f6ea4421237a",
   "metadata": {},
   "outputs": [],
   "source": [
    "X=[model[w] for w in sorted_words[:10]]"
   ]
  },
  {
   "cell_type": "code",
   "execution_count": 16,
   "id": "19d700fe-b7ee-4015-ad2b-034a3d3d0a0e",
   "metadata": {},
   "outputs": [],
   "source": [
    "X = TSNE(n_components=2).fit_transform(X)"
   ]
  },
  {
   "cell_type": "code",
   "execution_count": 17,
   "id": "76d668bb-1a78-4ef3-87a2-866a743338e9",
   "metadata": {},
   "outputs": [],
   "source": [
    "y = [i[1] for i in X]\n",
    "x = [i[0] for i in X]"
   ]
  },
  {
   "cell_type": "code",
   "execution_count": 21,
   "id": "6dcb2c89-a418-4b35-823d-a27eadfbcaae",
   "metadata": {},
   "outputs": [
    {
     "data": {
      "image/png": "[encoded data removed]",
      "text/plain": [
       "<Figure size 432x288 with 1 Axes>"
      ]
     },
     "metadata": {
      "needs_background": "light"
     },
     "output_type": "display_data"
    }
   ],
   "source": [
    "plt.scatter(x,y)\n",
    "plt.title(\"camera\")\n",
    "for i, label in enumerate(sorted_words[:10]):\n",
    "    plt.annotate(label, (x[i], y[i]))\n",
    "plt.show()"
   ]
  },
  {
   "cell_type": "code",
   "execution_count": null,
   "id": "34dc45bf-d1af-4201-90c1-39a92542523b",
   "metadata": {},
   "outputs": [],
   "source": []
  }
 ],
 "metadata": {
  "kernelspec": {
   "display_name": "Python 3",
   "language": "python",
   "name": "python3"
  },
  "language_info": {
   "codemirror_mode": {
    "name": "ipython",
    "version": 3
   },
   "file_extension": ".py",
   "mimetype": "text/x-python",
   "name": "python",
   "nbconvert_exporter": "python",
   "pygments_lexer": "ipython3",
   "version": "3.7.11"
  }
 },
 "nbformat": 4,
 "nbformat_minor": 5
}
