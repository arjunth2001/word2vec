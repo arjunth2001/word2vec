{
 "cells": [
  {
   "cell_type": "code",
   "execution_count": 1,
   "source": [
    "import json\n",
    "from sklearn.manifold import TSNE\n",
    "from numpy.linalg import norm\n",
    "import numpy as np\n",
    "import matplotlib.pyplot as plt\n",
    "CBOW=True\n",
    "if CBOW==True:\n",
    "    vocab_file =\"./data/cbow_words.json\"\n",
    "    model_file =\"./data/cbow_model.json\"\n",
    "    img_path=\"data/cbow.png\"\n",
    "else:\n",
    "    vocab_file =\"./data/svd_vocab.json\"\n",
    "    model_file =\"./data/svd_model.json\"\n",
    "    img_path=\"data/svd.png\""
   ],
   "outputs": [],
   "metadata": {}
  },
  {
   "cell_type": "code",
   "execution_count": 2,
   "source": [
    "with open(vocab_file) as f:\n",
    "    vocab = json.load(f)"
   ],
   "outputs": [],
   "metadata": {}
  },
  {
   "cell_type": "code",
   "execution_count": 3,
   "source": [
    "vocab[:20]"
   ],
   "outputs": [
    {
     "output_type": "execute_result",
     "data": {
      "text/plain": [
       "['i',\n",
       " 'the',\n",
       " 'it',\n",
       " 'great',\n",
       " 'one',\n",
       " 'good',\n",
       " 's',\n",
       " 'use',\n",
       " 'this',\n",
       " 'like',\n",
       " 'would',\n",
       " 'works',\n",
       " 'well',\n",
       " 'get',\n",
       " 'camera',\n",
       " 'case',\n",
       " 'price',\n",
       " 'quality',\n",
       " 'sound',\n",
       " 'also']"
      ]
     },
     "metadata": {},
     "execution_count": 3
    }
   ],
   "metadata": {}
  },
  {
   "cell_type": "code",
   "execution_count": 4,
   "source": [
    "with open(model_file) as f:\n",
    "    model = json.load(f)"
   ],
   "outputs": [],
   "metadata": {}
  },
  {
   "cell_type": "code",
   "execution_count": 5,
   "source": [
    "similarity={}\n",
    "for word in vocab:\n",
    "    a = model[\"camera\"]\n",
    "    b = model[word]\n",
    "    if word == \"camera\":\n",
    "        continue\n",
    "    similarity[word]= np.dot(a, b)/(norm(a)*norm(b))"
   ],
   "outputs": [],
   "metadata": {}
  },
  {
   "cell_type": "code",
   "execution_count": 6,
   "source": [
    "sorted_words = [k for k, v in sorted(similarity.items(), key=lambda item: item[1], reverse=True)]"
   ],
   "outputs": [],
   "metadata": {}
  },
  {
   "cell_type": "code",
   "execution_count": 7,
   "source": [
    "sorted_words[:20]"
   ],
   "outputs": [
    {
     "output_type": "execute_result",
     "data": {
      "text/plain": [
       "['cameras',\n",
       " 'cam',\n",
       " 'dslr',\n",
       " 'camcorder',\n",
       " 'dlsr',\n",
       " 'cams',\n",
       " 'slr',\n",
       " 'd90',\n",
       " 'camerasand',\n",
       " 'dslrs',\n",
       " 'slrs',\n",
       " 'canon',\n",
       " 'shoot',\n",
       " 'digicam',\n",
       " 't2i',\n",
       " 'nikon',\n",
       " '2mp',\n",
       " 'd800',\n",
       " 'photography',\n",
       " 'shooting']"
      ]
     },
     "metadata": {},
     "execution_count": 7
    }
   ],
   "metadata": {}
  },
  {
   "cell_type": "code",
   "execution_count": 8,
   "source": [
    "test_words= [\"tv\",\"sleeping\",\"bed\",\"room\",\"bedroom\",\"night\",\"camcorder\",\"camera\",\"photographer\",\"clarity\",\"video\",\"refridgerator\",\"pizza\",\"cool\",\"kitchen\",\"wife\"]\n",
    "X=[model[w] for w in test_words]"
   ],
   "outputs": [],
   "metadata": {}
  },
  {
   "cell_type": "code",
   "execution_count": 9,
   "source": [
    "X = TSNE(n_components=2).fit_transform(X)"
   ],
   "outputs": [],
   "metadata": {}
  },
  {
   "cell_type": "code",
   "execution_count": 10,
   "source": [
    "y = [i[1] for i in X]\n",
    "x = [i[0] for i in X]"
   ],
   "outputs": [],
   "metadata": {}
  },
  {
   "cell_type": "code",
   "execution_count": 11,
   "source": [
    "plt.figure(facecolor=\"white\")\n",
    "plt.scatter(x,y)\n",
    "plt.title(\"Words Plot\")\n",
    "for i, label in enumerate(test_words):\n",
    "    plt.annotate(label, (x[i], y[i]))\n",
    "plt.savefig(img_path,dpi=300)\n",
    "plt.show()"
   ],
   "outputs": [
    {
     "output_type": "display_data",
     "data": {
      "image/png": "[encoded data removed]",
      "text/plain": [
       "<Figure size 432x288 with 1 Axes>"
      ]
     },
     "metadata": {}
    }
   ],
   "metadata": {}
  },
  {
   "cell_type": "code",
   "execution_count": null,
   "source": [],
   "outputs": [],
   "metadata": {}
  }
 ],
 "metadata": {
  "kernelspec": {
   "display_name": "Python 3",
   "language": "python",
   "name": "python3"
  },
  "language_info": {
   "codemirror_mode": {
    "name": "ipython",
    "version": 3
   },
   "file_extension": ".py",
   "mimetype": "text/x-python",
   "name": "python",
   "nbconvert_exporter": "python",
   "pygments_lexer": "ipython3",
   "version": "3.7.0"
  }
 },
 "nbformat": 4,
 "nbformat_minor": 5
}